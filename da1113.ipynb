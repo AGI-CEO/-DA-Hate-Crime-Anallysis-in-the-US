{
 "cells": [
  {
   "cell_type": "code",
   "execution_count": 1,
   "metadata": {},
   "outputs": [
    {
     "name": "stdout",
     "output_type": "stream",
     "text": [
      "Defaulting to user installation because normal site-packages is not writeable\n",
      "Requirement already satisfied: pandas in /home/blaise-linux/.local/lib/python3.10/site-packages (2.1.1)\n",
      "Requirement already satisfied: tzdata>=2022.1 in /home/blaise-linux/.local/lib/python3.10/site-packages (from pandas) (2023.3)\n",
      "Requirement already satisfied: numpy>=1.22.4 in /home/blaise-linux/.local/lib/python3.10/site-packages (from pandas) (1.24.0)\n",
      "Requirement already satisfied: pytz>=2020.1 in /home/blaise-linux/.local/lib/python3.10/site-packages (from pandas) (2023.3.post1)\n",
      "Requirement already satisfied: python-dateutil>=2.8.2 in /home/blaise-linux/.local/lib/python3.10/site-packages (from pandas) (2.8.2)\n",
      "Requirement already satisfied: six>=1.5 in /usr/lib/python3/dist-packages (from python-dateutil>=2.8.2->pandas) (1.16.0)\n"
     ]
    }
   ],
   "source": [
    "!pip install pandas\n"
   ]
  },
  {
   "cell_type": "code",
   "execution_count": 2,
   "metadata": {},
   "outputs": [
    {
     "name": "stdout",
     "output_type": "stream",
     "text": [
      "        state  median_household_income  share_unemployed_seasonal  \\\n",
      "0     Alabama                    42278                      0.060   \n",
      "1      Alaska                    67629                      0.064   \n",
      "2     Arizona                    49254                      0.063   \n",
      "3    Arkansas                    44922                      0.052   \n",
      "4  California                    60487                      0.059   \n",
      "\n",
      "   share_population_in_metro_areas  share_population_with_high_school_degree  \\\n",
      "0                             0.64                                     0.821   \n",
      "1                             0.63                                     0.914   \n",
      "2                             0.90                                     0.842   \n",
      "3                             0.69                                     0.824   \n",
      "4                             0.97                                     0.806   \n",
      "\n",
      "   share_non_citizen  share_white_poverty  gini_index  share_non_white  \\\n",
      "0               0.02                 0.12       0.472             0.35   \n",
      "1               0.04                 0.06       0.422             0.42   \n",
      "2               0.10                 0.09       0.455             0.49   \n",
      "3               0.04                 0.12       0.458             0.26   \n",
      "4               0.13                 0.09       0.471             0.61   \n",
      "\n",
      "   share_voters_voted_trump  hate_crimes_per_100k_splc  \\\n",
      "0                      0.63                   0.125839   \n",
      "1                      0.53                   0.143740   \n",
      "2                      0.50                   0.225320   \n",
      "3                      0.60                   0.069061   \n",
      "4                      0.33                   0.255805   \n",
      "\n",
      "   avg_hatecrimes_per_100k_fbi  \n",
      "0                     1.806410  \n",
      "1                     1.656700  \n",
      "2                     3.413928  \n",
      "3                     0.869209  \n",
      "4                     2.397986  \n"
     ]
    }
   ],
   "source": [
    "import pandas as pd\n",
    "\n",
    "# Load the dataset\n",
    "data = pd.read_csv('./hate_crimes.csv')\n",
    "\n",
    "# Display the first few rows of the DataFrame\n",
    "print(data.head())"
   ]
  },
  {
   "cell_type": "code",
   "execution_count": 3,
   "metadata": {},
   "outputs": [
    {
     "name": "stdout",
     "output_type": "stream",
     "text": [
      "state                                       0\n",
      "median_household_income                     0\n",
      "share_unemployed_seasonal                   0\n",
      "share_population_in_metro_areas             0\n",
      "share_population_with_high_school_degree    0\n",
      "share_non_citizen                           3\n",
      "share_white_poverty                         0\n",
      "gini_index                                  0\n",
      "share_non_white                             0\n",
      "share_voters_voted_trump                    0\n",
      "hate_crimes_per_100k_splc                   4\n",
      "avg_hatecrimes_per_100k_fbi                 1\n",
      "dtype: int64\n"
     ]
    }
   ],
   "source": [
    "# Look for missing values\n",
    "print(data.isnull().sum())\n"
   ]
  },
  {
   "cell_type": "code",
   "execution_count": 5,
   "metadata": {},
   "outputs": [],
   "source": [
    "# let's impute share_non_citizen  \n",
    "median_non_citizen = data['share_non_citizen'].median()\n",
    "data['share_non_citizen'].fillna(median_non_citizen, inplace=True)\n",
    "\n",
    "# Drop rows where 'hate_crimes_per_100k_splc' or 'avg_hatecrimes_per_100k_fbi' is missing\n",
    "# These columns are central to our analysis, and imputing hate crime data could introduce significant bias or inaccuracies. \n",
    "# Since the number of rows with missing hate crime data is also relatively small, removing them is unlikely to substantially reduce the overall data set's utility.\n",
    "\n",
    "data.dropna(subset=['hate_crimes_per_100k_splc', 'avg_hatecrimes_per_100k_fbi'], inplace=True)"
   ]
  },
  {
   "cell_type": "code",
   "execution_count": 6,
   "metadata": {},
   "outputs": [
    {
     "name": "stdout",
     "output_type": "stream",
     "text": [
      "Descriptive Statistics for Median Household Income:\n",
      "count       47.000000\n",
      "mean     54802.297872\n",
      "std       9255.117207\n",
      "min      35521.000000\n",
      "25%      47629.500000\n",
      "50%      54310.000000\n",
      "75%      60597.500000\n",
      "max      76165.000000\n",
      "Name: median_household_income, dtype: float64\n",
      "\n",
      "Descriptive Statistics for Hate Crimes per 100k (SPLC):\n",
      "count    47.000000\n",
      "mean      0.304093\n",
      "std       0.252709\n",
      "min       0.067447\n",
      "25%       0.142707\n",
      "50%       0.226197\n",
      "75%       0.356935\n",
      "max       1.522302\n",
      "Name: hate_crimes_per_100k_splc, dtype: float64\n",
      "\n",
      "Descriptive Statistics for Average Hate Crimes per 100k (FBI):\n",
      "count    47.000000\n",
      "mean      2.341934\n",
      "std       1.700661\n",
      "min       0.412012\n",
      "25%       1.303706\n",
      "50%       1.937083\n",
      "75%       3.119108\n",
      "max      10.953480\n",
      "Name: avg_hatecrimes_per_100k_fbi, dtype: float64\n"
     ]
    }
   ],
   "source": [
    "# Descriptive statistics for 'median_household_income'\n",
    "print(\"Descriptive Statistics for Median Household Income:\")\n",
    "print(data['median_household_income'].describe())\n",
    "\n",
    "# Descriptive statistics for 'hate_crimes_per_100k_splc'\n",
    "print(\"\\nDescriptive Statistics for Hate Crimes per 100k (SPLC):\")\n",
    "print(data['hate_crimes_per_100k_splc'].describe())\n",
    "\n",
    "# Descriptive statistics for 'avg_hatecrimes_per_100k_fbi'\n",
    "print(\"\\nDescriptive Statistics for Average Hate Crimes per 100k (FBI):\")\n",
    "print(data['avg_hatecrimes_per_100k_fbi'].describe())"
   ]
  },
  {
   "cell_type": "markdown",
   "metadata": {},
   "source": [
    "Interpretation\n",
    "\n",
    "Median Household Income\n",
    "Mean: $54,802.30\n",
    "Standard Deviation: $9,255.12\n",
    "Min-Max Range: $35,521 - $76,165\n",
    "Median: $54,310\n",
    "Interpretation: The mean and median are quite close, suggesting a fairly symmetric distribution of household income across states. The standard deviation is moderate, indicating some variability but not extreme differences in incomes.\n",
    "\n",
    "Hate Crimes per 100k (SPLC Data)\n",
    "Mean: 0.304\n",
    "Standard Deviation: 0.253\n",
    "Min-Max Range: 0.067 - 1.522\n",
    "Median: 0.226\n",
    "Interpretation: There's noticeable variability in hate crime rates (SPLC data) among states. The mean is higher than the median, hinting at a right-skewed distribution – a few states with very high hate crime rates might be pulling the average up.\n",
    "\n",
    "Average Hate Crimes per 100k (FBI Data)\n",
    "Mean: 2.342\n",
    "Standard Deviation: 1.701\n",
    "Min-Max Range: 0.412 - 10.953\n",
    "Median: 1.937\n",
    "Interpretation: The FBI data shows a higher average hate crime rate compared to the SPLC data, with a greater standard deviation, indicating more variability among states. The distribution appears to be right-skewed, similar to the SPLC data, as the mean is higher than the median.\n",
    "\n",
    "Key Takeaways\n",
    "Income Distribution: Relatively uniform across states, with no extreme outliers.\n",
    "Hate Crime Rates: Both SPLC and FBI data show a right-skewed distribution, meaning most states have lower hate crime rates, but a few states with very high rates are affecting the average."
   ]
  },
  {
   "cell_type": "markdown",
   "metadata": {},
   "source": [
    "Challenge Question 2: Extremes in Hate Crimes\n",
    "Identifying Extremes in SPLC Data:\n",
    "\n",
    "Find the state with the highest hate_crimes_per_100k_splc.\n",
    "Find the state with the lowest hate_crimes_per_100k_splc.\n",
    "Comparing with FBI Data:\n",
    "\n",
    "Check the rates of these states in the avg_hatecrimes_per_100k_fbi column.\n",
    "See how they compare – Are the same states with extreme values in both datasets?"
   ]
  },
  {
   "cell_type": "code",
   "execution_count": 7,
   "metadata": {},
   "outputs": [
    {
     "name": "stdout",
     "output_type": "stream",
     "text": [
      "State with highest hate crime rate (SPLC data):\n",
      "                  state  hate_crimes_per_100k_splc\n",
      "8  District of Columbia                   1.522302\n",
      "\n",
      "State with lowest hate crime rate (SPLC data):\n",
      "          state  hate_crimes_per_100k_splc\n",
      "24  Mississippi                   0.067447\n",
      "\n",
      "Comparing with FBI data:\n",
      "                   state  avg_hatecrimes_per_100k_fbi\n",
      "8   District of Columbia                    10.953480\n",
      "24           Mississippi                     0.622746\n"
     ]
    }
   ],
   "source": [
    "# State with the highest rate of hate crimes (SPLC data)\n",
    "highest_splc = data[data['hate_crimes_per_100k_splc'] == data['hate_crimes_per_100k_splc'].max()]\n",
    "print(\"State with highest hate crime rate (SPLC data):\")\n",
    "print(highest_splc[['state', 'hate_crimes_per_100k_splc']])\n",
    "\n",
    "# State with the lowest rate of hate crimes (SPLC data)\n",
    "lowest_splc = data[data['hate_crimes_per_100k_splc'] == data['hate_crimes_per_100k_splc'].min()]\n",
    "print(\"\\nState with lowest hate crime rate (SPLC data):\")\n",
    "print(lowest_splc[['state', 'hate_crimes_per_100k_splc']])\n",
    "\n",
    "# Check these states in FBI data\n",
    "print(\"\\nComparing with FBI data:\")\n",
    "print(data.loc[data['state'].isin([highest_splc['state'].values[0], lowest_splc['state'].values[0]]), \n",
    "              ['state', 'avg_hatecrimes_per_100k_fbi']])\n"
   ]
  },
  {
   "cell_type": "markdown",
   "metadata": {},
   "source": [
    "Extremes in Hate Crimes (SPLC vs. FBI Data)\n",
    "SPLC Data:\n",
    "Highest Hate Crime Rate: District of Columbia (1.522 per 100k)\n",
    "Lowest Hate Crime Rate: Mississippi (0.067 per 100k)\n",
    "FBI Data:\n",
    "District of Columbia: 10.953 per 100k\n",
    "Mississippi: 0.623 per 100k\n",
    "Interpretation and Insights:\n",
    "District of Columbia (D.C.) stands out with the highest hate crime rate in both SPLC and FBI data. However, the rate in the FBI data is much higher. This difference could be due to various factors like reporting methods, data collection standards, or actual variations in hate crime incidents.\n",
    "\n",
    "Mississippi shows the lowest rate of hate crimes according to the SPLC data, but its rate is higher in the FBI data, although still relatively low compared to other states. This might suggest underreporting or differences in categorization of hate crimes in different data sources.\n",
    "\n",
    "Key Takeaways:\n",
    "Reporting Variances: There's a notable difference in the hate crime rates reported by SPLC and FBI, highlighting potential discrepancies in data collection or reporting standards.\n",
    "Regional Differences: D.C.'s high rate might be influenced by its urban setting, dense population, and socio-political environment. Mississippi's low rate could indicate underreporting or genuinely lower incidence, but this requires further investigation."
   ]
  },
  {
   "cell_type": "markdown",
   "metadata": {},
   "source": [
    "Challenge Question 3: Correlation Analysis\n",
    "Task:\n",
    "Determine the correlation between hate_crimes_per_100k_splc and the following variables:\n",
    "Median household income\n",
    "Share unemployed seasonal\n",
    "Share non-white\n",
    "Share voters voted Trump\n",
    "\n",
    "\n",
    "Calculate Correlation Coefficients: \n",
    "Interpret the Results: "
   ]
  },
  {
   "cell_type": "code",
   "execution_count": 8,
   "metadata": {},
   "outputs": [
    {
     "name": "stdout",
     "output_type": "stream",
     "text": [
      "Correlation between Hate Crimes (SPLC) and median_household_income: 0.351\n",
      "Correlation between Hate Crimes (SPLC) and share_unemployed_seasonal: 0.083\n",
      "Correlation between Hate Crimes (SPLC) and share_non_white: 0.048\n",
      "Correlation between Hate Crimes (SPLC) and share_voters_voted_trump: -0.657\n"
     ]
    }
   ],
   "source": [
    "# Calculate and print the correlation coefficients\n",
    "correlation_metrics = ['median_household_income', 'share_unemployed_seasonal', \n",
    "                       'share_non_white', 'share_voters_voted_trump']\n",
    "\n",
    "for metric in correlation_metrics:\n",
    "    correlation = data['hate_crimes_per_100k_splc'].corr(data[metric])\n",
    "    print(f\"Correlation between Hate Crimes (SPLC) and {metric}: {correlation:.3f}\")\n"
   ]
  },
  {
   "cell_type": "markdown",
   "metadata": {},
   "source": [
    "Correlation Interpretation\n",
    "Median Household Income (0.351):\n",
    "\n",
    "There's a moderate positive correlation between median household income and hate crimes per 100k. This suggests that states with higher median incomes tend to have slightly higher rates of hate crimes, according to SPLC data. It's an interesting find, as it might counter some intuitive assumptions.\n",
    "Share Unemployed Seasonal (0.083):\n",
    "\n",
    "The correlation is very weak here. This implies that there's little to no linear relationship between the seasonal unemployment rate and hate crime rates.\n",
    "Share Non-White (0.048):\n",
    "\n",
    "This also shows a very weak positive correlation. The proportion of non-white population in a state doesn't seem to have a significant linear relationship with the hate crime rates in this data.\n",
    "Share Voters Voted Trump (-0.657):\n",
    "\n",
    "This is the most significant correlation in your results, and it's a strong negative one. It indicates that states with a higher proportion of Trump voters tend to have lower rates of hate crimes, as per SPLC data. This could reflect a variety of social, political, and cultural dynamics and warrants a deeper investigation to understand the causative factors.\n",
    "Key Insights\n",
    "The strongest correlation found is with political leaning (as indicated by share of Trump voters), though it's important to remember that correlation does not imply causation.\n",
    "The correlations with median household income and the share of the non-white population are relatively weak, suggesting these factors might not be as strongly associated with hate crime rates as one might expect.\n",
    "The very weak correlation with seasonal unemployment indicates that this factor might not be a significant predictor of hate crime rates."
   ]
  },
  {
   "cell_type": "markdown",
   "metadata": {},
   "source": [
    "Challenge Question 4: Gini Index vs. Hate Crimes\n",
    "Task:\n",
    "Analyze the relationship between the Gini index (a measure of income inequality) and hate crimes per 100k according to FBI data. Use a scatter plot to visualize this relationship.\n",
    "\n",
    "Create a Scatter Plot: This will visually depict the relationship (if any) between the Gini index and hate crime rates.\n",
    "Look for Patterns: Is there a trend? Do higher Gini index values correspond to higher or lower hate crime rates?"
   ]
  },
  {
   "cell_type": "code",
   "execution_count": 10,
   "metadata": {},
   "outputs": [
    {
     "name": "stdout",
     "output_type": "stream",
     "text": [
      "Defaulting to user installation because normal site-packages is not writeable\n",
      "Collecting matplotlib\n",
      "  Downloading matplotlib-3.8.2-cp310-cp310-manylinux_2_17_x86_64.manylinux2014_x86_64.whl (11.6 MB)\n",
      "\u001b[2K     \u001b[90m━━━━━━━━━━━━━━━━━━━━━━━━━━━━━━━━━━━━━━━━\u001b[0m \u001b[32m11.6/11.6 MB\u001b[0m \u001b[31m16.6 MB/s\u001b[0m eta \u001b[36m0:00:00\u001b[0m00:01\u001b[0m00:01\u001b[0m\n",
      "\u001b[?25hRequirement already satisfied: python-dateutil>=2.7 in /home/blaise-linux/.local/lib/python3.10/site-packages (from matplotlib) (2.8.2)\n",
      "Collecting pillow>=8\n",
      "  Downloading Pillow-10.1.0-cp310-cp310-manylinux_2_28_x86_64.whl (3.6 MB)\n",
      "\u001b[2K     \u001b[90m━━━━━━━━━━━━━━━━━━━━━━━━━━━━━━━━━━━━━━━━\u001b[0m \u001b[32m3.6/3.6 MB\u001b[0m \u001b[31m13.3 MB/s\u001b[0m eta \u001b[36m0:00:00\u001b[0m00:01\u001b[0m00:01\u001b[0m\n",
      "\u001b[?25hCollecting kiwisolver>=1.3.1\n",
      "  Downloading kiwisolver-1.4.5-cp310-cp310-manylinux_2_12_x86_64.manylinux2010_x86_64.whl (1.6 MB)\n",
      "\u001b[2K     \u001b[90m━━━━━━━━━━━━━━━━━━━━━━━━━━━━━━━━━━━━━━━━\u001b[0m \u001b[32m1.6/1.6 MB\u001b[0m \u001b[31m20.9 MB/s\u001b[0m eta \u001b[36m0:00:00\u001b[0ma \u001b[36m0:00:01\u001b[0m\n",
      "\u001b[?25hRequirement already satisfied: numpy<2,>=1.21 in /home/blaise-linux/.local/lib/python3.10/site-packages (from matplotlib) (1.24.0)\n",
      "Requirement already satisfied: packaging>=20.0 in /home/blaise-linux/.local/lib/python3.10/site-packages (from matplotlib) (23.1)\n",
      "Collecting contourpy>=1.0.1\n",
      "  Downloading contourpy-1.2.0-cp310-cp310-manylinux_2_17_x86_64.manylinux2014_x86_64.whl (310 kB)\n",
      "\u001b[2K     \u001b[90m━━━━━━━━━━━━━━━━━━━━━━━━━━━━━━━━━━━━━━\u001b[0m \u001b[32m310.7/310.7 KB\u001b[0m \u001b[31m17.8 MB/s\u001b[0m eta \u001b[36m0:00:00\u001b[0m\n",
      "\u001b[?25hRequirement already satisfied: pyparsing>=2.3.1 in /usr/lib/python3/dist-packages (from matplotlib) (2.4.7)\n",
      "Collecting fonttools>=4.22.0\n",
      "  Downloading fonttools-4.45.1-cp310-cp310-manylinux_2_17_x86_64.manylinux2014_x86_64.whl (4.6 MB)\n",
      "\u001b[2K     \u001b[90m━━━━━━━━━━━━━━━━━━━━━━━━━━━━━━━━━━━━━━━━\u001b[0m \u001b[32m4.6/4.6 MB\u001b[0m \u001b[31m23.5 MB/s\u001b[0m eta \u001b[36m0:00:00\u001b[0ma \u001b[36m0:00:01\u001b[0m\n",
      "\u001b[?25hCollecting cycler>=0.10\n",
      "  Downloading cycler-0.12.1-py3-none-any.whl (8.3 kB)\n",
      "Requirement already satisfied: six>=1.5 in /usr/lib/python3/dist-packages (from python-dateutil>=2.7->matplotlib) (1.16.0)\n",
      "Installing collected packages: pillow, kiwisolver, fonttools, cycler, contourpy, matplotlib\n",
      "Successfully installed contourpy-1.2.0 cycler-0.12.1 fonttools-4.45.1 kiwisolver-1.4.5 matplotlib-3.8.2 pillow-10.1.0\n"
     ]
    },
    {
     "data": {
      "image/png": "[encoded data removed]",
      "text/plain": [
       "<Figure size 1000x600 with 1 Axes>"
      ]
     },
     "metadata": {},
     "output_type": "display_data"
    }
   ],
   "source": [
    "!pip install matplotlib\n",
    "import matplotlib.pyplot as plt\n",
    "\n",
    "# Scatter plot of Gini index vs. average hate crimes per 100k (FBI data)\n",
    "plt.figure(figsize=(10, 6))\n",
    "plt.scatter(data['gini_index'], data['avg_hatecrimes_per_100k_fbi'], color='blue', alpha=0.5)\n",
    "plt.title('Gini Index vs. Hate Crimes per 100k (FBI Data)')\n",
    "plt.xlabel('Gini Index (Income Inequality)')\n",
    "plt.ylabel('Average Hate Crimes per 100k (FBI Data)')\n",
    "plt.grid(True)\n",
    "plt.show()\n"
   ]
  },
  {
   "cell_type": "markdown",
   "metadata": {},
   "source": [
    "Interpretation\n",
    "Spread of Data Points: There is a broad spread of hate crime rates for Gini Index values, especially in the middle range. This suggests that income inequality, as measured by the Gini Index, does not have a simple or direct relationship with hate crime rates.\n",
    "\n",
    "No Clear Trend: There isn't a clear upward or downward trend that we can discern from this plot. The data points don't form a distinct line or curve.\n",
    "\n",
    "Possible Outlier: There seems to be an outlier or a few outliers at the higher end of hate crime rates which do not follow any visible pattern. These could be due to specific state factors that are not captured by the Gini Index alone.\n",
    "\n",
    "High Variability: The variability in hate crime rates seems to be high across states with similar Gini Index values. This indicates that other variables, possibly beyond socio-economic factors included in the dataset, might play a significant role in hate crime incidence."
   ]
  },
  {
   "cell_type": "markdown",
   "metadata": {},
   "source": [
    "Challenge Question 5: Urbanization and Hate Crimes\n",
    "Task:\n",
    "Compare the hate crimes per 100k in states with a high share of the population in metro areas (>80%) to those with a low share (<50%)."
   ]
  },
  {
   "cell_type": "code",
   "execution_count": 11,
   "metadata": {},
   "outputs": [
    {
     "name": "stdout",
     "output_type": "stream",
     "text": [
      "Average hate crimes per 100k in high metro areas: 2.67\n",
      "Average hate crimes per 100k in low metro areas: 1.83\n"
     ]
    }
   ],
   "source": [
    "# Group states by high and low share of the population in metro areas\n",
    "high_metro_share = data[data['share_population_in_metro_areas'] > 0.8]\n",
    "low_metro_share = data[data['share_population_in_metro_areas'] < 0.5]\n",
    "\n",
    "# Calculate average hate crimes for high metro share group\n",
    "high_metro_avg_crimes = high_metro_share['avg_hatecrimes_per_100k_fbi'].mean()\n",
    "\n",
    "# Calculate average hate crimes for low metro share group\n",
    "low_metro_avg_crimes = low_metro_share['avg_hatecrimes_per_100k_fbi'].mean()\n",
    "\n",
    "print(f\"Average hate crimes per 100k in high metro areas: {high_metro_avg_crimes:.2f}\")\n",
    "print(f\"Average hate crimes per 100k in low metro areas: {low_metro_avg_crimes:.2f}\")\n"
   ]
  },
  {
   "cell_type": "markdown",
   "metadata": {},
   "source": [
    "The output indicates that states with a higher share of the population living in metropolitan areas have an average of 2.67 hate crimes per 100k, while states with a lower share of the population in metro areas have an average of 1.83 hate crimes per 100k.\n",
    "\n",
    "Interpretation and Insights:\n",
    "Urban vs. Rural: There seems to be a higher rate of reported hate crimes in more urbanized states compared to less urbanized ones. This could be due to a variety of factors, including but not limited to:\n",
    "\n",
    "Density and Diversity: Urban areas tend to be more densely populated and culturally diverse, which might contribute to both the occurrence and the reporting of hate crimes.\n",
    "Reporting Infrastructure: There could be better infrastructure for reporting and recording crimes in urban areas, leading to higher reported rates.\n",
    "Social Dynamics: Urban areas may have different social dynamics, including more interactions between people of diverse backgrounds, which could increase the chances of hate crimes occurring.\n",
    "Considerations: The increased rate in metropolitan areas might not solely reflect a higher incidence of hate crimes, but also better law enforcement reporting and public awareness. Conversely, lower rates in less urbanized areas might be due to underreporting or less awareness.\n",
    "\n",
    "Key Takeaways:\n",
    "The data suggests a correlation between urbanization and higher reported rates of hate crimes.\n",
    "Understanding the causative factors behind this correlation would require a more in-depth analysis, potentially examining cultural, economic, and law enforcement variables."
   ]
  },
  {
   "cell_type": "markdown",
   "metadata": {},
   "source": [
    "Challenge Question 6: Education and Hate Crimes\n",
    "Task:\n",
    "Investigate the relationship between the share of the population with a high school degree and the average hate crimes per 100k (FBI data)."
   ]
  },
  {
   "cell_type": "code",
   "execution_count": 13,
   "metadata": {},
   "outputs": [
    {
     "name": "stdout",
     "output_type": "stream",
     "text": [
      "Correlation between high school education level and hate crimes: 0.177\n"
     ]
    },
    {
     "data": {
      "image/png": "[encoded data removed]",
      "text/plain": [
       "<Figure size 1000x600 with 1 Axes>"
      ]
     },
     "metadata": {},
     "output_type": "display_data"
    }
   ],
   "source": [
    "# Calculate the correlation coefficient\n",
    "education_crime_correlation = data['share_population_with_high_school_degree'].corr(data['avg_hatecrimes_per_100k_fbi'])\n",
    "print(f\"Correlation between high school education level and hate crimes: {education_crime_correlation:.3f}\")\n",
    "\n",
    "# Scatter plot of education level vs. hate crimes\n",
    "plt.figure(figsize=(10, 6))\n",
    "plt.scatter(data['share_population_with_high_school_degree'], data['avg_hatecrimes_per_100k_fbi'], color='green', alpha=0.5)\n",
    "plt.title('High School Education Level vs. Hate Crimes per 100k (FBI Data)')\n",
    "plt.xlabel('Share of Population with High School Degree')\n",
    "plt.ylabel('Average Hate Crimes per 100k (FBI Data)')\n",
    "plt.grid(True)\n",
    "plt.show()\n"
   ]
  },
  {
   "cell_type": "markdown",
   "metadata": {},
   "source": [
    "Observations\n",
    "Data Distribution: The points are spread out across the plot without a clear linear pattern. This suggests that there isn't a straightforward linear relationship between education level and hate crime rates.\n",
    "\n",
    "No Obvious Trend: Unlike what some might hypothesize, there is no visible trend that suggests higher education levels correspond to significantly lower hate crime rates across the states.\n",
    "\n",
    "Cluster of Data Points: There's a noticeable clustering of data points in the middle of the education axis (around 85%-90% high school degree share). However, the hate crime rates for this cluster still vary widely, indicating that factors other than the high school education level may play a more substantial role in determining hate crime rates.\n",
    "\n",
    "Potential Outliers: There are a few states with particularly high hate crime rates that do not follow the overall pattern of the rest of the data. These outliers may warrant further investigation to understand the specific conditions that lead to these higher rates.\n",
    "\n",
    "Interpretation Considerations:\n",
    "Complex Relationship: If education does influence hate crime rates, the relationship is likely complex and not simply linear. It may interact with a range of other socio-economic and cultural factors.\n",
    "Educational Attainment: While educational attainment is an important factor in social outcomes, its impact on hate crime rates may not be direct or might be overshadowed by other more influential factors.\n",
    "Further Analysis: A multivariate analysis that includes additional factors like economic conditions, demographic diversity, political climate, and social support systems might yield more insights into the factors that correlate with hate crime rates.\n",
    "\n",
    "Key Takeaways:\n",
    "The scatter plot does not show a clear relationship between the proportion of the population with a high school degree and the hate crime rates.\n",
    "Educational attainment alone, at least at the high school level, does not appear to be a strong predictor of hate crime rates."
   ]
  },
  {
   "cell_type": "markdown",
   "metadata": {},
   "source": [
    "Challenge Question 7: Regression Analysis\n",
    "Task:\n",
    "Create a regression model to explore the relationship between the share of voters who voted for Trump and hate crimes per 100k (SPLC data)."
   ]
  },
  {
   "cell_type": "code",
   "execution_count": 14,
   "metadata": {},
   "outputs": [
    {
     "name": "stdout",
     "output_type": "stream",
     "text": [
      "Defaulting to user installation because normal site-packages is not writeable\n",
      "Collecting statsmodels\n",
      "  Downloading statsmodels-0.14.0-cp310-cp310-manylinux_2_17_x86_64.manylinux2014_x86_64.whl (10.1 MB)\n",
      "\u001b[2K     \u001b[90m━━━━━━━━━━━━━━━━━━━━━━━━━━━━━━━━━━━━━━━━\u001b[0m \u001b[32m10.1/10.1 MB\u001b[0m \u001b[31m12.3 MB/s\u001b[0m eta \u001b[36m0:00:00\u001b[0m00:01\u001b[0m0:01\u001b[0m\n",
      "\u001b[?25hCollecting scipy!=1.9.2,>=1.4\n",
      "  Downloading scipy-1.11.4-cp310-cp310-manylinux_2_17_x86_64.manylinux2014_x86_64.whl (36.4 MB)\n",
      "\u001b[2K     \u001b[90m━━━━━━━━━━━━━━━━━━━━━━━━━━━━━━━━━━━━━━━━\u001b[0m \u001b[32m36.4/36.4 MB\u001b[0m \u001b[31m21.2 MB/s\u001b[0m eta \u001b[36m0:00:00\u001b[0m00:01\u001b[0m00:01\u001b[0m\n",
      "\u001b[?25hRequirement already satisfied: packaging>=21.3 in /home/blaise-linux/.local/lib/python3.10/site-packages (from statsmodels) (23.1)\n",
      "Requirement already satisfied: pandas>=1.0 in /home/blaise-linux/.local/lib/python3.10/site-packages (from statsmodels) (2.1.1)\n",
      "Requirement already satisfied: numpy>=1.18 in /home/blaise-linux/.local/lib/python3.10/site-packages (from statsmodels) (1.24.0)\n",
      "Collecting patsy>=0.5.2\n",
      "  Downloading patsy-0.5.3-py2.py3-none-any.whl (233 kB)\n",
      "\u001b[2K     \u001b[90m━━━━━━━━━━━━━━━━━━━━━━━━━━━━━━━━━━━━━━\u001b[0m \u001b[32m233.8/233.8 KB\u001b[0m \u001b[31m19.5 MB/s\u001b[0m eta \u001b[36m0:00:00\u001b[0m\n",
      "\u001b[?25hRequirement already satisfied: python-dateutil>=2.8.2 in /home/blaise-linux/.local/lib/python3.10/site-packages (from pandas>=1.0->statsmodels) (2.8.2)\n",
      "Requirement already satisfied: pytz>=2020.1 in /home/blaise-linux/.local/lib/python3.10/site-packages (from pandas>=1.0->statsmodels) (2023.3.post1)\n",
      "Requirement already satisfied: tzdata>=2022.1 in /home/blaise-linux/.local/lib/python3.10/site-packages (from pandas>=1.0->statsmodels) (2023.3)\n",
      "Requirement already satisfied: six in /usr/lib/python3/dist-packages (from patsy>=0.5.2->statsmodels) (1.16.0)\n",
      "Installing collected packages: scipy, patsy, statsmodels\n",
      "Successfully installed patsy-0.5.3 scipy-1.11.4 statsmodels-0.14.0\n",
      "                                OLS Regression Results                               \n",
      "=====================================================================================\n",
      "Dep. Variable:     hate_crimes_per_100k_splc   R-squared:                       0.432\n",
      "Model:                                   OLS   Adj. R-squared:                  0.419\n",
      "Method:                        Least Squares   F-statistic:                     34.19\n",
      "Date:                       Mon, 27 Nov 2023   Prob (F-statistic):           5.26e-07\n",
      "Time:                               06:52:36   Log-Likelihood:                 11.746\n",
      "No. Observations:                         47   AIC:                            -19.49\n",
      "Df Residuals:                             45   BIC:                            -15.79\n",
      "Df Model:                                  1                                         \n",
      "Covariance Type:                   nonrobust                                         \n",
      "============================================================================================\n",
      "                               coef    std err          t      P>|t|      [0.025      0.975]\n",
      "--------------------------------------------------------------------------------------------\n",
      "const                        1.0173      0.125      8.127      0.000       0.765       1.269\n",
      "share_voters_voted_trump    -1.4748      0.252     -5.847      0.000      -1.983      -0.967\n",
      "==============================================================================\n",
      "Omnibus:                        6.589   Durbin-Watson:                   1.862\n",
      "Prob(Omnibus):                  0.037   Jarque-Bera (JB):                5.498\n",
      "Skew:                           0.788   Prob(JB):                       0.0640\n",
      "Kurtosis:                       3.566   Cond. No.                         11.1\n",
      "==============================================================================\n",
      "\n",
      "Notes:\n",
      "[1] Standard Errors assume that the covariance matrix of the errors is correctly specified.\n"
     ]
    }
   ],
   "source": [
    "!pip install statsmodels\n",
    "import statsmodels.api as sm\n",
    "\n",
    "# Define the predictor (independent variable) and the response (dependent variable)\n",
    "X = sm.add_constant(data['share_voters_voted_trump']) # We must add the constant term to include the intercept in the model\n",
    "Y = data['hate_crimes_per_100k_splc']\n",
    "\n",
    "# Create the regression model and fit it to the data\n",
    "model = sm.OLS(Y, X).fit()\n",
    "\n",
    "# Print out the statistics\n",
    "model_summary = model.summary()\n",
    "print(model_summary)\n"
   ]
  },
  {
   "cell_type": "markdown",
   "metadata": {},
   "source": [
    "Regression Analysis Interpretation\n",
    "R-squared (0.432): This value indicates that approximately 43.2% of the variability in hate crime rates per 100k can be explained by the share of voters who voted for Trump. This is a moderate amount of variance explained, which suggests that while there's a relationship, there are also other factors at play that the model doesn't account for.\n",
    "\n",
    "Coefficient for share_voters_voted_trump (-1.4748): This coefficient is significant (p < 0.001) and negative, meaning that for each additional percentage point of the population that voted for Trump, the hate crime rate per 100k (as reported by SPLC) decreases by approximately 1.475. It's important to note that while the relationship is statistically significant, it doesn't imply causation.\n",
    "\n",
    "P-value (< 0.001): The p-value for the coefficient of the share_voters_voted_trump variable is less than 0.001, which is highly significant. This means that the likelihood of observing such a strong association by chance is very low, and the variable is statistically significant in predicting hate crime rates.\n",
    "\n",
    "Confidence Interval: The 95% confidence interval for the share_voters_voted_trump coefficient does not contain zero, further indicating that the relationship is statistically significant.\n",
    "\n",
    "F-statistic (34.19): The F-statistic is a measure of how well the model fits the data. A higher value indicates a better fit. The associated Prob(F-statistic) suggests the model is statistically significant.\n",
    "\n",
    "Key Takeaways\n",
    "There's a statistically significant negative relationship between the share of Trump voters and hate crime rates according to SPLC data.\n",
    "The model explains a moderate proportion of the variance in hate crime rates, indicating that political leanings are a factor, but not the only one.\n",
    "The results suggest that states with a higher percentage of Trump voters report fewer hate crimes per capita, but this analysis cannot establish whether this is a cause-and-effect relationship.\n",
    "Considerations for Interpretation\n",
    "Causation vs. Correlation: A regression analysis can indicate correlation but not causation. The findings do not mean that voting for Trump causes lower hate crime rates. There may be other underlying factors that contribute to this association.\n",
    "Model Limitations: The model only includes one predictor variable. Including more variables could give a more comprehensive understanding of what influences hate crime rates."
   ]
  },
  {
   "cell_type": "markdown",
   "metadata": {},
   "source": [
    "Challenge Question 8: Poverty and Race Correlations\n",
    "Task:\n",
    "Analyze how the share of white poverty correlates with hate crimes per 100k (SPLC data) and compare this with how the share of the non-white population correlates with hate crimes."
   ]
  },
  {
   "cell_type": "code",
   "execution_count": 15,
   "metadata": {},
   "outputs": [
    {
     "name": "stdout",
     "output_type": "stream",
     "text": [
      "Correlation between white poverty share and hate crimes: -0.286\n",
      "Correlation between non-white share and hate crimes: 0.048\n"
     ]
    }
   ],
   "source": [
    "# Correlation between white poverty share and hate crimes\n",
    "white_poverty_crime_correlation = data['share_white_poverty'].corr(data['hate_crimes_per_100k_splc'])\n",
    "print(f\"Correlation between white poverty share and hate crimes: {white_poverty_crime_correlation:.3f}\")\n",
    "\n",
    "# Correlation between non-white share and hate crimes\n",
    "non_white_crime_correlation = data['share_non_white'].corr(data['hate_crimes_per_100k_splc'])\n",
    "print(f\"Correlation between non-white share and hate crimes: {non_white_crime_correlation:.3f}\")\n"
   ]
  },
  {
   "cell_type": "markdown",
   "metadata": {},
   "source": [
    "White Poverty Share and Hate Crimes (-0.286):\n",
    "This negative correlation suggests that states with a higher proportion of white poverty have a slightly lower rate of hate crimes per 100k, as reported by SPLC. However, the correlation is not very strong. It's counterintuitive because one might expect that economic hardship could lead to higher crime rates, including hate crimes. This could indicate that other factors, perhaps cultural or social, play a more significant role in the prevalence of hate crimes than economic hardship among the white population alone.\n",
    "\n",
    "\n",
    "Non-White Share and Hate Crimes (0.048):\n",
    "The correlation here is very weak and positive, indicating that there is virtually no linear relationship between the proportion of the non-white population and hate crime rates in this dataset. This suggests that the racial composition, in terms of the non-white population share, is not a strong predictor of hate crime rates.\n",
    "\n",
    "\n",
    "Interpretation and Insights:\n",
    "Complex Socio-Economic Dynamics: These correlations imply that the relationship between poverty, race, and hate crimes is complex. Simple economic or demographic models may not be sufficient to predict hate crime rates.\n",
    "Potential for Confounding Factors: There may be confounding factors that influence these correlations. For example, states with higher white poverty rates may have other social dynamics at play that could impact hate crime rates, such as different levels of social cohesion or different patterns of race relations.\n",
    "Limitation of Bivariate Analysis: Just like with the previous analyses, it's important to remember that these are bivariate correlations and do not account for the potential interplay between multiple factors.\n",
    "\n",
    "\n",
    "Key Takeaways:\n",
    "The data does not support a simple narrative that higher poverty among the white population is associated with higher hate crime rates.\n",
    "The share of the non-white population does not have a significant correlation with hate crime rates, suggesting the need for more nuanced analysis that considers a broader range of socio-economic and cultural factors."
   ]
  },
  {
   "cell_type": "markdown",
   "metadata": {},
   "source": [
    "Challenge Question 9: Non-Citizen Population Impact\n",
    "Task:\n",
    "Investigate if there’s a significant difference in hate crime rates in states with high non-citizen population (>10%) compared to those with low non-citizen population (<5%)."
   ]
  },
  {
   "cell_type": "code",
   "execution_count": 16,
   "metadata": {},
   "outputs": [
    {
     "name": "stdout",
     "output_type": "stream",
     "text": [
      "Average hate crimes per 100k in states with high non-citizen population: 4.63\n",
      "Average hate crimes per 100k in states with low non-citizen population: 1.96\n"
     ]
    }
   ],
   "source": [
    "# Group states by high and low non-citizen population\n",
    "high_non_citizen_share = data[data['share_non_citizen'] > 0.1]\n",
    "low_non_citizen_share = data[data['share_non_citizen'] < 0.05]\n",
    "\n",
    "# Calculate average hate crimes for high non-citizen share group\n",
    "high_non_citizen_avg_crimes = high_non_citizen_share['avg_hatecrimes_per_100k_fbi'].mean()\n",
    "\n",
    "# Calculate average hate crimes for low non-citizen share group\n",
    "low_non_citizen_avg_crimes = low_non_citizen_share['avg_hatecrimes_per_100k_fbi'].mean()\n",
    "\n",
    "print(f\"Average hate crimes per 100k in states with high non-citizen population: {high_non_citizen_avg_crimes:.2f}\")\n",
    "print(f\"Average hate crimes per 100k in states with low non-citizen population: {low_non_citizen_avg_crimes:.2f}\")\n"
   ]
  },
  {
   "cell_type": "markdown",
   "metadata": {},
   "source": [
    "The output shows that states with a higher non-citizen population (>10%) have an average of 4.63 hate crimes per 100k, which is more than double the average of 1.96 hate crimes per 100k in states with a lower non-citizen population (<5%).\n",
    "\n",
    "Interpretation and Insights:\n",
    "Higher Rates in States with More Non-Citizens: This could suggest that areas with higher non-citizen populations might experience more hate crimes. This might be due to a variety of factors, including social tensions, xenophobia, or even just greater diversity and more opportunities for conflict. Alternatively, it could also be due to better reporting or more robust mechanisms for tracking hate crimes in states with more diverse populations.\n",
    "\n",
    "Contextual Considerations: States with higher non-citizen populations might also have larger urban areas, which, as seen earlier, tend to have higher hate crime rates. Moreover, these states might be more politically liberal, have different policies, or have different levels of resources dedicated to hate crime prevention and reporting.\n",
    "\n",
    "Reporting and Awareness: There's also the possibility that increased awareness and reporting mechanisms in states with more non-citizens lead to higher documented rates of hate crimes. This doesn't necessarily mean that the actual incidence rate is higher; it could mean that it's more accurately reported.\n",
    "\n",
    "Key Takeaways:\n",
    "The data suggests a correlation between the size of the non-citizen population and hate crime rates, but it's important to consider the broader context.\n",
    "This analysis doesn't imply causation, and further investigation into the causal factors is necessary.\n",
    "The findings raise important questions for policymakers and social workers, such as how to ensure the safety and integration of non-citizen populations and how to encourage accurate hate crime reporting across all states."
   ]
  }
 ],
 "metadata": {
  "kernelspec": {
   "display_name": "Python 3",
   "language": "python",
   "name": "python3"
  },
  "language_info": {
   "codemirror_mode": {
    "name": "ipython",
    "version": 3
   },
   "file_extension": ".py",
   "mimetype": "text/x-python",
   "name": "python",
   "nbconvert_exporter": "python",
   "pygments_lexer": "ipython3",
   "version": "3.10.12"
  }
 },
 "nbformat": 4,
 "nbformat_minor": 2
}
